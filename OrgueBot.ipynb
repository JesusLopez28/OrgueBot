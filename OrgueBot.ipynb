{
 "cells": [
  {
   "cell_type": "markdown",
   "id": "a42d620c",
   "metadata": {},
   "source": [
    "# OrgueBot - Chatbot para información sobre órganos musicales\n",
    "\n",
    "## Propósito\n",
    "Este chatbot está diseñado para proporcionar información sobre órganos musicales, su historia, estructura, compositores famosos y otros aspectos relacionados. \n",
    "\n",
    "## Tema elegido\n",
    "El tema elegido es el órgano musical, uno de los instrumentos más antiguos y complejos. El chatbot puede responder a múltiples categorías de preguntas relacionadas con este instrumento.\n",
    "\n",
    "## Librerías utilizadas\n",
    "- **random**: Para selección aleatoria de respuestas\n",
    "- **json**: Para manejo de almacenamiento persistente de datos\n",
    "- **os**: Para operaciones del sistema de archivos\n",
    "- **datetime**: Para registro de tiempo en conversaciones\n",
    "- **colorama**: Para formateo de texto colorido en consola\n",
    "- **difflib.SequenceMatcher**: Para calcular similitud entre textos\n",
    "- **nltk.tokenize**: Para tokenización de texto\n",
    "- **nltk.corpus.stopwords**: Para filtrar palabras comunes sin significado relevante\n",
    "- **nltk.stem.WordNetLemmatizer**: Para lematización (reducir palabras a su forma base)"
   ]
  },
  {
   "cell_type": "code",
   "execution_count": 77,
   "id": "c666359f",
   "metadata": {},
   "outputs": [
    {
     "name": "stdout",
     "output_type": "stream",
     "text": [
      "Requirement already satisfied: nltk in c:\\users\\jesus\\anaconda3\\lib\\site-packages (3.9.1)\n",
      "Requirement already satisfied: colorama in c:\\users\\jesus\\anaconda3\\lib\\site-packages (0.4.6)\n",
      "Requirement already satisfied: click in c:\\users\\jesus\\anaconda3\\lib\\site-packages (from nltk) (8.1.7)\n",
      "Requirement already satisfied: joblib in c:\\users\\jesus\\anaconda3\\lib\\site-packages (from nltk) (1.4.2)\n",
      "Note: you may need to restart the kernel to use updated packages.\n",
      "Requirement already satisfied: regex>=2021.8.3 in c:\\users\\jesus\\anaconda3\\lib\\site-packages (from nltk) (2024.9.11)Buscando OrgueBot.py en: e:\\Escuela\\CETI Colomos\\7mo Semestre\\ANÁLISIS DE DATOS\\2do Parcial\\OrgueBot\n",
      "Requirement already satisfied: tqdm in c:\\users\\jesus\\anaconda3\\lib\\site-packages (from nltk) (4.66.5)\n",
      "\n",
      "El archivo OrgueBot.py fue encontrado!\n"
     ]
    },
    {
     "name": "stderr",
     "output_type": "stream",
     "text": [
      "[nltk_data] Downloading package punkt to\n",
      "[nltk_data]     C:\\Users\\Jesus\\AppData\\Roaming\\nltk_data...\n",
      "[nltk_data]   Package punkt is already up-to-date!\n",
      "[nltk_data] Downloading package stopwords to\n",
      "[nltk_data]     C:\\Users\\Jesus\\AppData\\Roaming\\nltk_data...\n",
      "[nltk_data]   Package stopwords is already up-to-date!\n",
      "[nltk_data] Downloading package wordnet to\n",
      "[nltk_data]     C:\\Users\\Jesus\\AppData\\Roaming\\nltk_data...\n",
      "[nltk_data]   Package wordnet is already up-to-date!\n"
     ]
    },
    {
     "data": {
      "text/plain": [
       "True"
      ]
     },
     "execution_count": 77,
     "metadata": {},
     "output_type": "execute_result"
    }
   ],
   "source": [
    "# Instalar las librerías necesarias si no están disponibles\n",
    "%pip install nltk colorama\n",
    "\n",
    "# Importación de librerías básicas\n",
    "import sys\n",
    "import os\n",
    "\n",
    "# Asegurar que el script pueda ser importado correctamente\n",
    "script_path = os.path.abspath(\".\")\n",
    "if script_path not in sys.path:\n",
    "    sys.path.append(script_path)\n",
    "\n",
    "# Verificar la ruta del script Python\n",
    "print(f\"Buscando OrgueBot.py en: {script_path}\")\n",
    "if os.path.exists(\"OrgueBot.py\"):\n",
    "    print(\"El archivo OrgueBot.py fue encontrado!\")\n",
    "else:\n",
    "    print(\"¡ADVERTENCIA! No se encontró el archivo OrgueBot.py\")\n",
    "\n",
    "# Descargar recursos de NLTK necesarios\n",
    "import nltk\n",
    "nltk.download('punkt')\n",
    "nltk.download('stopwords')\n",
    "nltk.download('wordnet')"
   ]
  },
  {
   "cell_type": "code",
   "execution_count": 78,
   "id": "5c517000",
   "metadata": {},
   "outputs": [
    {
     "name": "stdout",
     "output_type": "stream",
     "text": [
      "Clases importadas con éxito!\n"
     ]
    }
   ],
   "source": [
    "# Importar las clases desde el archivo Python\n",
    "from OrgueBot import OrgueBotMemoria, OrgueBot\n",
    "\n",
    "# Verificar que las clases se hayan importado correctamente\n",
    "print(\"Clases importadas con éxito!\")"
   ]
  },
  {
   "cell_type": "markdown",
   "id": "950a9b00",
   "metadata": {},
   "source": [
    "## Demostración del Chatbot\n",
    "\n",
    "A continuación, mostraremos algunas interacciones con el chatbot para demostrar sus capacidades. Primero, crearemos una instancia del chatbot y luego realizaremos algunas preguntas."
   ]
  },
  {
   "cell_type": "code",
   "execution_count": 79,
   "id": "bbee5aec",
   "metadata": {},
   "outputs": [],
   "source": [
    "# Crear una instancia del chatbot\n",
    "bot = OrgueBot()\n",
    "\n",
    "# Función para simular una conversación con el chatbot\n",
    "def demostrar_pregunta(pregunta):\n",
    "    print(f\"\\033[33mPregunta: {pregunta}\\033[0m\")\n",
    "    respuesta = bot.responder_pregunta(pregunta)\n",
    "    print(f\"\\033[32mBot: {respuesta}\\033[0m\")\n",
    "    print(\"-\" * 80)\n",
    "    return respuesta"
   ]
  },
  {
   "cell_type": "markdown",
   "id": "84c2ca57",
   "metadata": {},
   "source": [
    "### Demostración 1: Preguntas sobre diferentes categorías\n",
    "\n",
    "Vamos a realizar preguntas sobre diferentes categorías para mostrar cómo el chatbot identifica la intención y proporciona respuestas adecuadas."
   ]
  },
  {
   "cell_type": "code",
   "execution_count": 80,
   "id": "f2abe5ed",
   "metadata": {},
   "outputs": [
    {
     "name": "stdout",
     "output_type": "stream",
     "text": [
      "Pregunta: ¿Cuál es el origen o la historia del órgano musical?\n",
      "Bot: El período barroco (1600-1750) se considera la edad de oro de la música para órgano, con compositores como Bach llevando el instrumento a su máxima expresión. 🎼\n",
      "--------------------------------------------------------------------------------\n",
      "Pregunta: ¿Qué compositores famosos, como Bach, escribieron para órgano?\n",
      "Bot: ¿Sabías que Mozart llamaba al órgano 'el rey de los instrumentos'? Aunque no compuso mucho para él, lo admiraba enormemente. 👑\n",
      "--------------------------------------------------------------------------------\n",
      "Pregunta: ¿Cómo está estructurado o construido un órgano de tubos?\n",
      "Bot: Los tubos pueden ser labiales (como una flauta) o de lengüeta (con una vibración de caña), creando diferentes timbres. 🎵\n",
      "--------------------------------------------------------------------------------\n",
      "Pregunta: ¿Cuáles son las técnicas básicas para tocar o interpretar música en el órgano?\n",
      "Bot: La técnica de pedaleo 'talón-punta' fue desarrollada en el siglo XIX y permite mayor agilidad con los pies que las técnicas antiguas. 💃\n",
      "--------------------------------------------------------------------------------\n",
      "Pregunta: ¿Cuáles son los órganos más famosos o conocidos del mundo?\n",
      "Bot: El órgano Wanamaker en Filadelfia es el órgano de tubos funcional más grande del mundo, con más de 28,000 tubos. 🇺🇸\n",
      "--------------------------------------------------------------------------------\n",
      "Pregunta: ¿Cómo se usa el órgano en la música litúrgica o religiosa?\n",
      "Bot: El órgano de la Basílica de Mafra en Portugal tiene seis órganos que pueden tocarse simultáneamente. ¡Menudo espectáculo sonoro! 🇵🇹\n",
      "--------------------------------------------------------------------------------\n",
      "Pregunta: ¿Qué mantenimiento o cuidado requiere este instrumento?\n",
      "Bot: El órgano del Royal Albert Hall de Londres, apodado 'La Voz de Júpiter', es uno de los más grandes del mundo con 9,999 tubos. ¿Por qué no 10,000? ¡Dicen que fue para evitar impuestos adicionales! 💷\n",
      "--------------------------------------------------------------------------------\n",
      "Pregunta: Cuéntame alguna curiosidad o dato interesante sobre los órganos\n",
      "Bot: La nota más grave de un órgano puede ser tan baja que no se oye sino que se siente como una vibración. ¡Literalmente te sacude! 📳\n",
      "--------------------------------------------------------------------------------\n"
     ]
    }
   ],
   "source": [
    "# Demostración de preguntas sobre diferentes categorías\n",
    "categorias_demo = [\n",
    "    \"¿Cuál es el origen o la historia del órgano musical?\",\n",
    "    \"¿Qué compositores famosos, como Bach, escribieron para órgano?\",\n",
    "    \"¿Cómo está estructurado o construido un órgano de tubos?\",\n",
    "    \"¿Cuáles son las técnicas básicas para tocar o interpretar música en el órgano?\",\n",
    "    \"¿Cuáles son los órganos más famosos o conocidos del mundo?\",\n",
    "    \"¿Cómo se usa el órgano en la música litúrgica o religiosa?\",\n",
    "    \"¿Qué mantenimiento o cuidado requiere este instrumento?\",\n",
    "    \"Cuéntame alguna curiosidad o dato interesante sobre los órganos\"\n",
    "]\n",
    "\n",
    "for pregunta in categorias_demo:\n",
    "    demostrar_pregunta(pregunta)"
   ]
  },
  {
   "cell_type": "markdown",
   "id": "fbe5ff4c",
   "metadata": {},
   "source": [
    "### Demostración 2: Easter eggs y comandos especiales\n",
    "\n",
    "El chatbot incluye algunos \"huevos de pascua\" (easter eggs) que son mensajes especiales activados con ciertas frases. También tiene comandos especiales como \"dato curioso\"."
   ]
  },
  {
   "cell_type": "code",
   "execution_count": 81,
   "id": "619a0650",
   "metadata": {},
   "outputs": [
    {
     "name": "stdout",
     "output_type": "stream",
     "text": [
      "Pregunta: toccata y fuga\n",
      "Bot: 🧛‍♂️ *Relámpagos y truenos* ¡Muahaha! Has invocado al Fantasma de la Ópera y al Conde Drácula simultáneamente. Ambos te piden autógrafos por tu exquisito gusto musical. La Toccata y Fuga en Re menor de Bach es su melodía favorita para hacer entradas dramáticas.\n",
      "--------------------------------------------------------------------------------\n",
      "Pregunta: b a c h\n",
      "Bot: 🎼 *El órgano toca la secuencia de notas Si♭-La-Do-Si♮* ¡Has descubierto el motivo BACH! En notación alemana, estas notas deletrean B-A-C-H. El propio Johann Sebastian usó este motivo en sus composiciones. ¡Eres un verdadero conocedor! 👏\n",
      "--------------------------------------------------------------------------------\n",
      "Pregunta: dato curioso\n",
      "Bot: Mozart escribió música para un instrumento llamado 'Orgelwalze', un tipo de órgano mecánico similar a una caja de música. 🎡\n",
      "--------------------------------------------------------------------------------\n",
      "Pregunta: modo divertido\n",
      "Bot: ¡Modo divertido activado! 🎭 Prepárate para respuestas con más ritmo y melodía.\n",
      "--------------------------------------------------------------------------------\n",
      "Pregunta: ¿Qué compositores escribieron para órgano?\n",
      "Bot: El 'Hallelujah Chorus' de Händel a menudo se toca con órgano, ¡vaya!  aunque originalmente fue compuesto para orquesta y coro! 🎵 🎭 🎻🎼\n",
      "--------------------------------------------------------------------------------\n",
      "Pregunta: modo divertido\n",
      "Bot: Modo divertido desactivado. Volvemos a la seriedad del órgano. 🎹\n",
      "--------------------------------------------------------------------------------\n"
     ]
    }
   ],
   "source": [
    "# Demostración de Easter Eggs y comandos especiales\n",
    "easter_eggs_demo = [\n",
    "    \"toccata y fuga\",\n",
    "    \"b a c h\",\n",
    "    \"dato curioso\",\n",
    "    \"modo divertido\"\n",
    "]\n",
    "\n",
    "for comando in easter_eggs_demo:\n",
    "    demostrar_pregunta(comando)\n",
    "    \n",
    "# Demostrar el efecto del modo divertido\n",
    "if bot.modo_divertido:\n",
    "    demostrar_pregunta(\"¿Qué compositores escribieron para órgano?\")\n",
    "    demostrar_pregunta(\"modo divertido\")  # Desactivar modo divertido"
   ]
  },
  {
   "cell_type": "markdown",
   "id": "d0ca39e6",
   "metadata": {},
   "source": [
    "### Demostración 3: Memoria del chatbot\n",
    "\n",
    "El chatbot guarda memoria de las preguntas realizadas y puede sugerir preguntas populares."
   ]
  },
  {
   "cell_type": "code",
   "execution_count": 82,
   "id": "d5635162",
   "metadata": {},
   "outputs": [
    {
     "name": "stdout",
     "output_type": "stream",
     "text": [
      "Preguntas guardadas en memoria:\n",
      "1. ¿cuáles son las técnicas básicas para tocar el órgano?\n",
      "2. ¿cómo se usa el órgano en la música litúrgica?\n",
      "3. cuéntame alguna curiosidad sobre los órganos\n",
      "4. ¿qué mantenimiento requiere un órgano de tubos?\n",
      "5. ¿cuál es el origen del órgano musical?\n"
     ]
    }
   ],
   "source": [
    "# Ver qué preguntas se han guardado en la memoria\n",
    "sugerencias = bot.memoria.obtener_sugerencias(5)\n",
    "print(\"Preguntas guardadas en memoria:\")\n",
    "for i, sugerencia in enumerate(sugerencias, 1):\n",
    "    print(f\"{i}. {sugerencia}\")"
   ]
  },
  {
   "cell_type": "markdown",
   "id": "f4fd5489",
   "metadata": {},
   "source": [
    "## Uso interactivo del chatbot\n",
    "\n",
    "Para interactuar con el chatbot de forma completa, puedes usar la función `iniciar()` que permite una conversación continua. Para ejecutar el chatbot interactivo, descomenta y ejecuta la siguiente celda."
   ]
  },
  {
   "cell_type": "code",
   "execution_count": 83,
   "id": "dbae26b2",
   "metadata": {},
   "outputs": [
    {
     "name": "stdout",
     "output_type": "stream",
     "text": [
      "\n",
      "INSTRUCCIONES DE USO DEL CHATBOT:\n",
      "\n",
      "1. Ejecuta la celda anterior descomentando la línea 'bot.iniciar()'\n",
      "2. Escribe tus preguntas sobre órganos musicales cuando veas el prompt 'Tú: '\n",
      "3. Puedes preguntar sobre historia, compositores, estructura, técnica, etc.\n",
      "4. Comandos especiales:\n",
      "   - Escribe 'ayuda' para ver las opciones disponibles\n",
      "   - Escribe 'dato curioso' para obtener curiosidades aleatorias\n",
      "   - Prueba frases secretas como 'toccata y fuga' o 'b a c h'\n",
      "   - 'modo divertido' activa respuestas con más emojis y entusiasmo\n",
      "5. Para salir, escribe 'adiós', 'chao', 'hasta luego', etc.\n",
      "\n"
     ]
    }
   ],
   "source": [
    "# Para iniciar el chatbot interactivo, descomenta esta línea:\n",
    "# bot.iniciar()\n",
    "\n",
    "# Instrucciones de uso:\n",
    "print(\"\"\"\n",
    "INSTRUCCIONES DE USO DEL CHATBOT:\n",
    "\n",
    "1. Ejecuta la celda anterior descomentando la línea 'bot.iniciar()'\n",
    "2. Escribe tus preguntas sobre órganos musicales cuando veas el prompt 'Tú: '\n",
    "3. Puedes preguntar sobre historia, compositores, estructura, técnica, etc.\n",
    "4. Comandos especiales:\n",
    "   - Escribe 'ayuda' para ver las opciones disponibles\n",
    "   - Escribe 'dato curioso' para obtener curiosidades aleatorias\n",
    "   - Prueba frases secretas como 'toccata y fuga' o 'b a c h'\n",
    "   - 'modo divertido' activa respuestas con más emojis y entusiasmo\n",
    "5. Para salir, escribe 'adiós', 'chao', 'hasta luego', etc.\n",
    "\"\"\")"
   ]
  },
  {
   "cell_type": "markdown",
   "id": "08711242",
   "metadata": {},
   "source": [
    "## Análisis de requisitos cumplidos\n",
    "\n",
    "Este chatbot cumple con los requisitos técnicos de la asignatura:\n",
    "\n",
    "1. ✅ **Desarrollado en Jupyter Notebook**: El código ha sido adaptado para funcionar en un notebook.\n",
    "\n",
    "2. ✅ **Entrada de texto del usuario**: El bot acepta entrada de texto mediante la función `input()`.\n",
    "\n",
    "3. ✅ **Técnicas de NLP aplicadas**:\n",
    "   - **Tokenización**: Implementada con `word_tokenize` de NLTK.\n",
    "   - **Lematización**: Usando `WordNetLemmatizer` de NLTK.\n",
    "   - **Manejo de coincidencias parciales**: Utilizando `SequenceMatcher` y análisis de palabras clave.\n",
    "\n",
    "4. ✅ **Responde a más de 5 tipos de preguntas**:\n",
    "   - Historia del órgano\n",
    "   - Compositores famosos\n",
    "   - Estructura y funcionamiento\n",
    "   - Técnicas de interpretación\n",
    "   - Órganos famosos\n",
    "   - Música litúrgica\n",
    "   - Mantenimiento\n",
    "   - Curiosidades\n",
    "\n",
    "5. ✅ **Estructura condicional para respuestas adecuadas**: El bot utiliza un sistema de categorización de preguntas para determinar las respuestas.\n",
    "\n",
    "6. ✅ **Código claro, comentado y modular**: Organizado en clases y métodos con comentarios explicativos.\n",
    "\n",
    "7. ✅ **Celda de explicación del propósito**: Incluida al inicio del notebook.\n",
    "\n",
    "El chatbot también incluye características avanzadas como:\n",
    "- Sistema de memoria persistente\n",
    "- Easter eggs (mensajes ocultos)\n",
    "- Manejo de contexto conversacional\n",
    "- Sugerencias basadas en preguntas frecuentes"
   ]
  }
 ],
 "metadata": {
  "kernelspec": {
   "display_name": "base",
   "language": "python",
   "name": "python3"
  },
  "language_info": {
   "codemirror_mode": {
    "name": "ipython",
    "version": 3
   },
   "file_extension": ".py",
   "mimetype": "text/x-python",
   "name": "python",
   "nbconvert_exporter": "python",
   "pygments_lexer": "ipython3",
   "version": "3.12.7"
  }
 },
 "nbformat": 4,
 "nbformat_minor": 5
}
